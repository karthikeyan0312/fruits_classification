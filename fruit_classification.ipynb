{
  "nbformat": 4,
  "nbformat_minor": 0,
  "metadata": {
    "kernelspec": {
      "name": "python3",
      "display_name": "Python 3",
      "language": "python"
    },
    "language_info": {
      "name": "python",
      "version": "3.6.6",
      "mimetype": "text/x-python",
      "codemirror_mode": {
        "name": "ipython",
        "version": 3
      },
      "pygments_lexer": "ipython3",
      "nbconvert_exporter": "python",
      "file_extension": ".py"
    },
    "colab": {
      "name": "fruit-classification.ipynb",
      "provenance": []
    },
    "accelerator": "GPU"
  },
  "cells": [
    {
      "cell_type": "code",
      "metadata": {
        "_uuid": "8f2839f25d086af736a60e9eeb907d3b93b6e0e5",
        "_cell_guid": "b1076dfc-b9ad-4769-8c92-a6c4dae69d19",
        "trusted": true,
        "id": "u-cvUZdSId_2"
      },
      "source": [
        "# This Python 3 environment comes with many helpful analytics libraries installed\n",
        "# It is defined by the kaggle/python docker image: https://github.com/kaggle/docker-python\n",
        "# For example, here's several helpful packages to load in \n",
        "\n",
        "import numpy as np # linear algebra\n",
        "import pandas as pd # data processing, CSV file I/O (e.g. pd.read_csv)\n",
        "import matplotlib.pyplot as plt\n",
        "import seaborn as sns\n",
        "import glob\n",
        "import cv2\n",
        "import os\n",
        "\n",
        "# Input data files are available in the \"../input/\" directory.\n",
        "# For example, running this (by clicking run or pressing Shift+Enter) will list the files in the input directory\n",
        "import warnings\n",
        "# filter warnings\n",
        "warnings.filterwarnings('ignore')\n",
        "\n",
        "\n",
        "import os\n",
        "#print(os.listdir(\"../input\"))\n",
        "#from subprocess import check_output\n",
        "#print(check_output([\"ls\", \"../input\"]).decode(\"utf8\"))\n",
        "\n",
        "# Any results you write to the current directory are saved as output."
      ],
      "execution_count": 1,
      "outputs": []
    },
    {
      "cell_type": "code",
      "metadata": {
        "colab": {
          "base_uri": "https://localhost:8080/"
        },
        "id": "907zIjCxLIn6",
        "outputId": "74e01e43-f101-47ea-cfd4-f51512b4cdaa"
      },
      "source": [
        "from google.colab import drive\n",
        "drive.mount('/content/drive')"
      ],
      "execution_count": 2,
      "outputs": [
        {
          "output_type": "stream",
          "name": "stdout",
          "text": [
            "Mounted at /content/drive\n"
          ]
        }
      ]
    },
    {
      "cell_type": "code",
      "metadata": {
        "_cell_guid": "79c7e3d0-c299-4dcb-8224-4455121ee9b0",
        "_uuid": "d629ff2d2480ee46fbb7e2d37f6b5fab8052498a",
        "trusted": true,
        "id": "yyUxXlJzId_4"
      },
      "source": [
        "np.random.seed(1234)\n",
        "directory=\"/content/drive/MyDrive/fruits/fruits-360_dataset/fruits-360/Training\"#\"../input/fruits-360/Training/\"\n",
        "classes=[\"Apple Golden 1\",\"Avocado\",\"Banana\",\"Cherry 1\",\"Cocos\",\"Kiwi\",\n",
        "         \"Lemon\",\"Mango\",\"Orange\"]\n",
        "\n",
        "all_arrays=[]\n",
        "img_size=100\n",
        "for i in classes:\n",
        "    path=os.path.join(directory,i)\n",
        "    class_num=classes.index(i)\n",
        "    for img in os.listdir(path):\n",
        "        #img_array=cv2.imread(os.path.join(path,img),\n",
        "        #                     cv2.IMREAD_GRAYSCALE)\n",
        "        img_array=cv2.imread(os.path.join(path,img))\n",
        "        img_array=cv2.cvtColor(img_array, cv2.COLOR_BGR2RGB)\n",
        "        #img_array=cv2.resize(img_array,(img_size,img_size))\n",
        "        all_arrays.append([img_array,class_num])"
      ],
      "execution_count": 3,
      "outputs": []
    },
    {
      "cell_type": "code",
      "metadata": {
        "trusted": true,
        "_uuid": "1779fcaa5bc84f5e92b4022300dac63df96390c8",
        "id": "8EuzhoWeId_4"
      },
      "source": [
        "directory2=\"/content/drive/MyDrive/fruits/fruits-360_dataset/fruits-360/Test\"#\"../input/fruits-360/Test/\"\n",
        "classes2=[\"Apple Golden 1\",\"Avocado\",\"Banana\",\"Cherry 1\",\"Cocos\",\"Kiwi\",\n",
        "         \"Lemon\",\"Mango\",\"Orange\"]\n",
        "\n",
        "all_arrays2=[]\n",
        "img_size=100\n",
        "for i in classes2:\n",
        "    path=os.path.join(directory2,i)\n",
        "    class_num2=classes2.index(i)\n",
        "    for img in os.listdir(path):\n",
        "        #img_array2=cv2.imread(os.path.join(path,img),\n",
        "        #                     cv2.IMREAD_GRAYSCALE)\n",
        "        img_array2=cv2.imread(os.path.join(path,img))\n",
        "        img_array2=cv2.cvtColor(img_array2, cv2.COLOR_BGR2RGB)\n",
        "        #img_array2=cv2.resize(img_array2,(img_size,img_size))\n",
        "        all_arrays2.append([img_array2,class_num2])"
      ],
      "execution_count": 4,
      "outputs": []
    },
    {
      "cell_type": "markdown",
      "metadata": {
        "_uuid": "7d947f1f4f2b18ef5ea4d0813339d561252642ac",
        "id": "MAW-VnAvId_5"
      },
      "source": [
        "At the beginning we had only images, not any dataframe or any array from. We used os and cv2 libraries to created our array form. "
      ]
    },
    {
      "cell_type": "markdown",
      "metadata": {
        "_uuid": "cc06957ce1ad3f50a60345d1835c5a4c358e20e3",
        "id": "AFcghq9kId_6"
      },
      "source": [
        "**Image examples of our data:**"
      ]
    },
    {
      "cell_type": "code",
      "metadata": {
        "trusted": true,
        "scrolled": false,
        "_uuid": "82a4b7126d477ba3e8da59526b14509d77fff219",
        "id": "RmwMoWUXId_6"
      },
      "source": [
        "fruits_array_train=[]\n",
        "for features,label in all_arrays:\n",
        "    fruits_array_train.append(features)\n",
        "\n",
        "location=[[1,500,1150],[1500,2000,2500],[3000,3500,4000]]\n",
        "fruit_names=[\"Apple\",\"Avocado\",\"Banana\",\"Cherry\",\"Cocos\",\"Kiwi\",\"Lemon\",\"Mango\",\"Orange\"]\n",
        "a=0\n",
        "b=1\n",
        "c=2\n",
        "for i,j,k in location:\n",
        "    plt.subplots(figsize=(8,8))\n",
        "    plt.subplot(1,3,1)\n",
        "    plt.imshow(fruits_array_train[i])\n",
        "    plt.title(fruit_names[a])\n",
        "    plt.axis(\"off\")\n",
        "    plt.subplot(1,3,2)\n",
        "    plt.imshow(fruits_array_train[j])\n",
        "    plt.title(fruit_names[b])\n",
        "    plt.axis(\"off\")\n",
        "    plt.subplot(1,3,3)\n",
        "    plt.imshow(fruits_array_train[k])\n",
        "    plt.title(fruit_names[c])\n",
        "    plt.axis(\"off\")\n",
        "    a+=3\n",
        "    b+=3\n",
        "    c+=3"
      ],
      "execution_count": null,
      "outputs": []
    },
    {
      "cell_type": "code",
      "metadata": {
        "trusted": true,
        "_uuid": "831ce07c0d7b1a947270e7eb5e277d2bfea1ef3a",
        "id": "eue3JT_GId_7"
      },
      "source": [
        "import random\n",
        "random.shuffle(all_arrays)\n",
        "\n",
        "X_train=[]\n",
        "Y_train=[]\n",
        "for features,label in all_arrays:\n",
        "    X_train.append(features)\n",
        "    Y_train.append(label)\n",
        "X_train=np.array(X_train) #arraying\n",
        "\n",
        "import random\n",
        "random.shuffle(all_arrays2)\n",
        "\n",
        "X_test=[]\n",
        "Y_test=[]\n",
        "for features,label in all_arrays2:\n",
        "    X_test.append(features)\n",
        "    Y_test.append(label)\n",
        "X_test=np.array(X_test) #arraying\n"
      ],
      "execution_count": 6,
      "outputs": []
    },
    {
      "cell_type": "markdown",
      "metadata": {
        "_uuid": "81a32c26c83421f2db30a768f24a2f6309b634f4",
        "id": "dhueMV8kId_7"
      },
      "source": [
        "We created our X features and Y labels. Also we used shuffle function to mix our dataset."
      ]
    },
    {
      "cell_type": "code",
      "metadata": {
        "trusted": true,
        "_uuid": "72370f67632fad11f68a15c1edc7a5fe8261e834",
        "colab": {
          "base_uri": "https://localhost:8080/"
        },
        "id": "ulhu16WzId_7",
        "outputId": "6d93f53d-fa05-4e80-d4a8-73d234ec1919"
      },
      "source": [
        "#normalization and reshaping\n",
        "X_train=X_train.reshape(-1,img_size,img_size,3)\n",
        "X_train=X_train/255\n",
        "X_test=X_test.reshape(-1,img_size,img_size,3)\n",
        "X_test=X_test/255\n",
        "print(\"shape of X_train= \",X_train.shape)\n",
        "print(\"shape of X_test=  \",X_test.shape)"
      ],
      "execution_count": 7,
      "outputs": [
        {
          "output_type": "stream",
          "name": "stdout",
          "text": [
            "shape of X_train=  (1397, 100, 100, 3)\n",
            "shape of X_test=   (1445, 100, 100, 3)\n"
          ]
        }
      ]
    },
    {
      "cell_type": "markdown",
      "metadata": {
        "_uuid": "71eba4d89e483541a491c91a985a26cdd2d97a73",
        "id": "VLQvRimKId_8"
      },
      "source": [
        "While reshaping we added RGB scale."
      ]
    },
    {
      "cell_type": "code",
      "metadata": {
        "trusted": true,
        "_uuid": "2b0ac9b59ef77d63a93c9c82756437edbc80754d",
        "id": "DJo4utI2Id_8"
      },
      "source": [
        "from tensorflow.keras.utils import to_categorical\n",
        "Y_train=to_categorical(Y_train,num_classes=9)\n",
        "Y_test=to_categorical(Y_test,num_classes=9)"
      ],
      "execution_count": 10,
      "outputs": []
    },
    {
      "cell_type": "markdown",
      "metadata": {
        "_uuid": "2d8a360800eee80af55b3853546765667f59e007",
        "id": "xw71_kVOId_8"
      },
      "source": [
        "We converted our labels to one-hot-encoding values. 3 ----->(0,0,0,1,0,0,0,0,0,0) etc"
      ]
    },
    {
      "cell_type": "code",
      "metadata": {
        "trusted": true,
        "_uuid": "110275a60213124f953e124494de70331336b732",
        "colab": {
          "base_uri": "https://localhost:8080/"
        },
        "id": "EtIQXJ7VId_9",
        "outputId": "78e801d7-ee99-4183-f094-9c9c289dea2c"
      },
      "source": [
        "Y_train.shape"
      ],
      "execution_count": 11,
      "outputs": [
        {
          "output_type": "execute_result",
          "data": {
            "text/plain": [
              "(1397, 9)"
            ]
          },
          "metadata": {},
          "execution_count": 11
        }
      ]
    },
    {
      "cell_type": "code",
      "metadata": {
        "trusted": true,
        "_uuid": "5f7ee80f3b514785f116149bef02a354b1baf7f1",
        "colab": {
          "base_uri": "https://localhost:8080/"
        },
        "id": "GmnnzkcDId_9",
        "outputId": "eac0d128-7317-49e9-eb13-7c2977792408"
      },
      "source": [
        "X_train.shape"
      ],
      "execution_count": 12,
      "outputs": [
        {
          "output_type": "execute_result",
          "data": {
            "text/plain": [
              "(1397, 100, 100, 3)"
            ]
          },
          "metadata": {},
          "execution_count": 12
        }
      ]
    },
    {
      "cell_type": "code",
      "metadata": {
        "trusted": true,
        "_uuid": "94a1ea1ea7220c7a11c44c486efea7854ec2143b",
        "id": "nlXEibYZId_9"
      },
      "source": [
        "from sklearn.model_selection import  train_test_split\n",
        "x_train,x_val,y_train,y_val=train_test_split(X_train,Y_train,test_size=0.2,random_state=42)"
      ],
      "execution_count": 13,
      "outputs": []
    },
    {
      "cell_type": "markdown",
      "metadata": {
        "_uuid": "b653715fedcd04c02e5076bd1451af2ad69f3efb",
        "id": "sKyR0sFIId_9"
      },
      "source": [
        "With train_test_split we separated our datas to train and validation datas."
      ]
    },
    {
      "cell_type": "code",
      "metadata": {
        "trusted": true,
        "_uuid": "72fb153718ed9f20317771242c8e439e5255a289",
        "id": "z9q1UQWyId_9"
      },
      "source": [
        "from sklearn.metrics import confusion_matrix\n",
        "import itertools\n",
        "\n",
        "from keras.utils.np_utils import to_categorical\n",
        "from keras.models import Sequential\n",
        "from keras.layers import Dense,Dropout,Flatten,Conv2D,MaxPool2D\n",
        "from tensorflow.keras.optimizers import Adam\n",
        "from keras.preprocessing.image import ImageDataGenerator\n",
        "\n",
        "from keras.callbacks import ReduceLROnPlateau\n",
        "\n",
        "\n",
        "model=Sequential()\n",
        "model.add(Conv2D(filters=8,kernel_size=(3,3),padding=\"Same\",activation=\"relu\",input_shape=(100,100,3)))\n",
        "model.add(MaxPool2D(pool_size=(2,2)))\n",
        "model.add(Dropout(0.35))\n",
        "\n",
        "model.add(Conv2D(filters=16,kernel_size=(3,3),padding=\"Same\",activation=\"relu\"))\n",
        "model.add(MaxPool2D(pool_size=(2,2),strides=(2,2)))\n",
        "model.add(Dropout(0.35))\n",
        "\n",
        "model.add(Conv2D(filters=32,kernel_size=(3,3),padding=\"Same\",activation=\"relu\"))\n",
        "model.add(MaxPool2D(pool_size=(2,2),strides=(2,2)))\n",
        "model.add(Dropout(0.35))\n",
        "model.add(Flatten())\n",
        "model.add(Dense(512,activation=\"relu\"))\n",
        "model.add(Dropout(0.5))\n",
        "model.add(Dense(9,activation=\"softmax\"))\n",
        "#defining optimizer\n",
        "optimizer=Adam(lr=0.001,beta_1=0.9,beta_2=0.999)\n",
        "#compile the model\n",
        "model.compile(optimizer=optimizer,loss=\"categorical_crossentropy\",metrics=[\"accuracy\"])\n",
        "\n"
      ],
      "execution_count": 15,
      "outputs": []
    },
    {
      "cell_type": "code",
      "metadata": {
        "id": "t6EoR_IrgQeZ"
      },
      "source": [
        "epochs=12\n",
        "batch_size=18"
      ],
      "execution_count": 23,
      "outputs": []
    },
    {
      "cell_type": "markdown",
      "metadata": {
        "_uuid": "70b03327db8b317c731bac44d0302dce9c7c45b4",
        "id": "VK-OSxM6Id_-"
      },
      "source": [
        "We connected our labels-layers with keras library. With Dense we added hidden layers. We avoided overfitting thanks to Dropout. With relu function we don't have variance around zero."
      ]
    },
    {
      "cell_type": "markdown",
      "metadata": {
        "_uuid": "15c2716010bde6d1f9c51ce1d9834255d98787b1",
        "id": "ZBDtiuZrId_-"
      },
      "source": [
        "Let's go with data augmentation. In this section we add different shapes of our images. We will use **zooming,shifting,rotating,fliping** methods in order to avoid **overfitting**.                                                             \n",
        "For example we will add a image of banana with 5 degrees rotated."
      ]
    },
    {
      "cell_type": "code",
      "metadata": {
        "trusted": true,
        "scrolled": false,
        "_uuid": "ffeb314b24d276e613a5518b9ed947e2668dff27",
        "colab": {
          "base_uri": "https://localhost:8080/"
        },
        "id": "Oj10onlWId_-",
        "outputId": "c99c4d60-cea8-4f15-d997-debf5199ef5f"
      },
      "source": [
        "datagen=ImageDataGenerator(featurewise_center=False, #set input mean to 0\n",
        "                           samplewise_center=False,  #set each sample mean to 0\n",
        "                           featurewise_std_normalization=False, #divide input datas to std\n",
        "                           samplewise_std_normalization=False,  #divide each datas to own std\n",
        "                           zca_whitening=False,  #dimension reduction\n",
        "                           rotation_range=0.5,    #rotate 5 degree\n",
        "                           zoom_range=0.5,        #zoom in-out 5%\n",
        "                           width_shift_range=0.5, #shift 5%\n",
        "                           height_shift_range=0.5,\n",
        "                           horizontal_flip=False,  #randomly flip images\n",
        "                           vertical_flip=False,\n",
        "                           )\n",
        "datagen.fit(x_train)\n",
        "\n",
        "#model fitting\n",
        "history=model.fit_generator(datagen.flow(x_train,y_train,batch_size=batch_size),epochs=epochs,\n",
        "                            validation_data=(x_val,y_val),steps_per_epoch=x_train.shape[0]//batch_size\n",
        "                           )\n"
      ],
      "execution_count": 24,
      "outputs": [
        {
          "output_type": "stream",
          "name": "stdout",
          "text": [
            "Epoch 1/12\n",
            "62/62 [==============================] - 4s 60ms/step - loss: 0.0277 - accuracy: 0.9936 - val_loss: 0.0584 - val_accuracy: 0.9821\n",
            "Epoch 2/12\n",
            "62/62 [==============================] - 4s 60ms/step - loss: 0.0753 - accuracy: 0.9773 - val_loss: 0.1003 - val_accuracy: 0.9786\n",
            "Epoch 3/12\n",
            "62/62 [==============================] - 4s 60ms/step - loss: 0.0256 - accuracy: 0.9873 - val_loss: 0.0671 - val_accuracy: 0.9893\n",
            "Epoch 4/12\n",
            "62/62 [==============================] - 4s 59ms/step - loss: 0.0372 - accuracy: 0.9891 - val_loss: 0.0291 - val_accuracy: 1.0000\n",
            "Epoch 5/12\n",
            "62/62 [==============================] - 4s 61ms/step - loss: 0.0410 - accuracy: 0.9891 - val_loss: 0.0212 - val_accuracy: 1.0000\n",
            "Epoch 6/12\n",
            "62/62 [==============================] - 4s 59ms/step - loss: 0.0180 - accuracy: 0.9927 - val_loss: 0.0203 - val_accuracy: 1.0000\n",
            "Epoch 7/12\n",
            "62/62 [==============================] - 4s 61ms/step - loss: 0.0403 - accuracy: 0.9873 - val_loss: 0.0221 - val_accuracy: 1.0000\n",
            "Epoch 8/12\n",
            "62/62 [==============================] - 4s 60ms/step - loss: 0.0138 - accuracy: 0.9955 - val_loss: 0.0127 - val_accuracy: 1.0000\n",
            "Epoch 9/12\n",
            "62/62 [==============================] - 4s 60ms/step - loss: 0.0318 - accuracy: 0.9882 - val_loss: 0.0268 - val_accuracy: 0.9893\n",
            "Epoch 10/12\n",
            "62/62 [==============================] - 4s 61ms/step - loss: 0.0275 - accuracy: 0.9882 - val_loss: 0.0121 - val_accuracy: 1.0000\n",
            "Epoch 11/12\n",
            "62/62 [==============================] - 4s 60ms/step - loss: 0.0114 - accuracy: 0.9973 - val_loss: 0.0072 - val_accuracy: 1.0000\n",
            "Epoch 12/12\n",
            "62/62 [==============================] - 4s 60ms/step - loss: 0.0225 - accuracy: 0.9945 - val_loss: 0.0076 - val_accuracy: 1.0000\n"
          ]
        }
      ]
    },
    {
      "cell_type": "code",
      "metadata": {
        "id": "KR633HKOfSNx"
      },
      "source": [
        ""
      ],
      "execution_count": null,
      "outputs": []
    },
    {
      "cell_type": "code",
      "metadata": {
        "id": "zheuLQzWmD3O"
      },
      "source": [
        "y_pred=model.predict(np.expand_dims(x_val[0], axis=0))\n",
        "y_pred_classes=np.argmax(y_pred,axis=1)"
      ],
      "execution_count": 57,
      "outputs": []
    },
    {
      "cell_type": "code",
      "metadata": {
        "colab": {
          "base_uri": "https://localhost:8080/"
        },
        "id": "aeuUJRguu7H4",
        "outputId": "4e73291f-6050-4fcd-9f45-97f2308921a8"
      },
      "source": [
        "np.expand_dims(x_val[0], axis=0).shape"
      ],
      "execution_count": 61,
      "outputs": [
        {
          "output_type": "execute_result",
          "data": {
            "text/plain": [
              "(1, 100, 100, 3)"
            ]
          },
          "metadata": {},
          "execution_count": 61
        }
      ]
    },
    {
      "cell_type": "code",
      "metadata": {
        "colab": {
          "base_uri": "https://localhost:8080/"
        },
        "id": "z3FiJD6Ouyer",
        "outputId": "ac904530-ce25-4f5e-ff45-c524dbb76e3b"
      },
      "source": [
        "y_pred_classes"
      ],
      "execution_count": 58,
      "outputs": [
        {
          "output_type": "execute_result",
          "data": {
            "text/plain": [
              "array([0])"
            ]
          },
          "metadata": {},
          "execution_count": 58
        }
      ]
    },
    {
      "cell_type": "code",
      "metadata": {
        "id": "OjiP2HKFuPlB"
      },
      "source": [
        "fruit_names=[\"Apple\",\"Avocado\",\"Banana\",\"Cherry\",\"Cocos\",\"Kiwi\",\"Lemon\",\"Mango\",\"Orange\"]\n"
      ],
      "execution_count": 48,
      "outputs": []
    },
    {
      "cell_type": "code",
      "metadata": {
        "colab": {
          "base_uri": "https://localhost:8080/",
          "height": 302
        },
        "id": "87KwJNFPtktp",
        "outputId": "722d1718-1add-4dd0-a947-161fc4037e7c"
      },
      "source": [
        "n=0\n",
        "print(fruit_names[y_pred_classes[n]])\n",
        "plt.imshow(x_val[n])"
      ],
      "execution_count": 59,
      "outputs": [
        {
          "output_type": "stream",
          "name": "stdout",
          "text": [
            "Apple\n"
          ]
        },
        {
          "output_type": "execute_result",
          "data": {
            "text/plain": [
              "<matplotlib.image.AxesImage at 0x7f08ad86a950>"
            ]
          },
          "metadata": {},
          "execution_count": 59
        },
        {
          "output_type": "display_data",
          "data": {
            "image/png": "[encoded data removed]",
            "text/plain": [
              "<Figure size 432x288 with 1 Axes>"
            ]
          },
          "metadata": {
            "needs_background": "light"
          }
        }
      ]
    },
    {
      "cell_type": "code",
      "metadata": {
        "id": "9oImaAr5mF_D"
      },
      "source": [
        "plt.imshow(x_val[9])"
      ],
      "execution_count": null,
      "outputs": []
    },
    {
      "cell_type": "markdown",
      "metadata": {
        "_uuid": "a3b4820f85669c4d08ae1ec4862a4231c06aa66e",
        "id": "4nVzVCvWId__"
      },
      "source": [
        "After 15 iteration we have a high accuracy around 96%"
      ]
    },
    {
      "cell_type": "code",
      "metadata": {
        "trusted": true,
        "_uuid": "4dec2f50998b175d6971eb686307164c7a7289f8",
        "colab": {
          "base_uri": "https://localhost:8080/",
          "height": 295
        },
        "id": "hu_OUoEUId__",
        "outputId": "0b5cc814-1110-496d-f014-95419c2c3a62"
      },
      "source": [
        "plt.plot(history.history[\"val_accuracy\"],color=\"r\",label=\"val_accuracy\")\n",
        "plt.title(\"Accuracy Graph\")\n",
        "plt.xlabel(\"number of epochs\")\n",
        "plt.ylabel(\"accuracy\")\n",
        "plt.legend()\n",
        "plt.grid()\n",
        "plt.show()"
      ],
      "execution_count": 26,
      "outputs": [
        {
          "output_type": "display_data",
          "data": {
            "image/png": "[encoded data removed]",
            "text/plain": [
              "<Figure size 432x288 with 1 Axes>"
            ]
          },
          "metadata": {
            "needs_background": "light"
          }
        }
      ]
    },
    {
      "cell_type": "code",
      "metadata": {
        "trusted": true,
        "_uuid": "539cb02fa3ed83e706ec9bbac2093d88d85a07f5",
        "id": "nShbXpExId__"
      },
      "source": [
        "#confusion matrix\n",
        "y_pred=model.predict(x_val)\n",
        "y_pred_classes=np.argmax(y_pred,axis=1)\n",
        "y_true=np.argmax(y_val,axis=1)\n",
        "#compute conf mat\n",
        "conf_mat=confusion_matrix(y_true,y_pred_classes)\n",
        "#plot the con mat\n",
        "fruit_names=[\"Apple\",\"Avocado\",\"Banana\",\"Cherry\",\"Cocos\",\"Kiwi\",\"Lemon\",\"Mango\",\"Orange\"]\n",
        "f,ax=plt.subplots(figsize=(10,9))\n",
        "sns.heatmap(conf_mat,annot=True,fmt='.0f')\n",
        "ax.set_xticklabels(fruit_names)\n",
        "ax.set_yticklabels(fruit_names)\n",
        "plt.show()\n"
      ],
      "execution_count": null,
      "outputs": []
    },
    {
      "cell_type": "markdown",
      "metadata": {
        "_uuid": "03f5eca154f644b5c8d023c8c8e6e73e6d1d0670",
        "id": "DxA4aXi9IeAA"
      },
      "source": [
        "We can see error values on validation data"
      ]
    },
    {
      "cell_type": "code",
      "metadata": {
        "trusted": true,
        "_uuid": "72d6313ed55ede5ca7b4bcc41adf8995aa4e82e6",
        "scrolled": false,
        "id": "UVq6_3AyIeAA"
      },
      "source": [
        "#confusion matrix\n",
        "y_pred2=model.predict(X_test)\n",
        "y_pred_classes2=np.argmax(y_pred2,axis=1)\n",
        "y_true2=np.argmax(Y_test,axis=1)\n",
        "#compute conf mat\n",
        "conf_mat2=confusion_matrix(y_true2,y_pred_classes2)\n",
        "#plot the con mat\n",
        "f,ax=plt.subplots(figsize=(10,9))\n",
        "sns.heatmap(conf_mat2,annot=True,fmt=\".0f\")\n",
        "ax.set_xticklabels(fruit_names)\n",
        "ax.set_yticklabels(fruit_names)\n",
        "plt.show()\n"
      ],
      "execution_count": null,
      "outputs": []
    },
    {
      "cell_type": "markdown",
      "metadata": {
        "_uuid": "9670972c872ca8f9358249b7eee1a7676a13b5fa",
        "id": "hSnokQEcIeAA"
      },
      "source": [
        "Here we checked error on test data. We almost no have false detection in test set except false results of Banana and Lemon classes"
      ]
    },
    {
      "cell_type": "markdown",
      "metadata": {
        "_uuid": "cc148b0d12b77570d05596e464c10413524da1bb",
        "id": "JgZ90bPVIeAA"
      },
      "source": [
        "In conclusion we used CNN method to check nine types of fruit. We have training accuracy around 95% and it is really acceptable.\n",
        "If you have any question feel free to contact with me."
      ]
    }
  ]
}